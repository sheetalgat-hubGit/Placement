{
 "cells": [
  {
   "cell_type": "markdown",
   "id": "e2926ce3-53da-42f4-952a-db7a3f8f2f02",
   "metadata": {},
   "source": [
    "# Statistics"
   ]
  },
  {
   "cell_type": "code",
   "execution_count": 1,
   "id": "67dad8a8-1a43-4dd4-bd8c-74446e243ef5",
   "metadata": {},
   "outputs": [],
   "source": [
    "# descriptive statistics(summarizes and describes the features and focuses on organizing,presenting and simplifying data) \n",
    "#inferential statistics(preditions)"
   ]
  },
  {
   "cell_type": "raw",
   "id": "34531efc-b7ee-472b-86c4-146e9b903f17",
   "metadata": {},
   "source": [
    "types of data in statistics:\n",
    "1} quantitative :\n",
    "    i) discrete (numerical) data\n",
    "    ii)continous data\n",
    "\n",
    "2} qualitative(categorical):\n",
    "    i) nominal - no natural order eg. gender , city, account type\n",
    "    ii)ordinal - category with meaningful order eg. customer satisfaction(low, medium, high), credit rating(poor, good, better)"
   ]
  },
  {
   "cell_type": "raw",
   "id": "efe649b1-5736-4109-afc6-b6c683899dc1",
   "metadata": {},
   "source": [
    "measures of central tendency: measures of central tendency describe the center or typical value of a dataset\n",
    "3 main measures: mean , median , mode\n",
    "1) mean(x)=sum(xi/n)--->average\n",
    "2) median = gives center value (used for outliers)\n",
    "3) mode = used on categorical data and discrete data\n",
    "mean 29.5\n",
    "where to use mean median mode"
   ]
  },
  {
   "cell_type": "code",
   "execution_count": 5,
   "id": "16dceb25-90d2-45d7-ae0a-b27aef5f7475",
   "metadata": {},
   "outputs": [],
   "source": [
    "import statistics\n",
    "data = [5,6,7,8,9,10,95,96]\n",
    "mean = statistics.mean(data)\n",
    "median = statistics.median(data)\n",
    "mode  = statistics.mode(data)\n"
   ]
  },
  {
   "cell_type": "code",
   "execution_count": 6,
   "id": "b5e62c42-165a-42c8-a358-418c64a13042",
   "metadata": {},
   "outputs": [
    {
     "data": {
      "text/plain": [
       "29.5"
      ]
     },
     "execution_count": 6,
     "metadata": {},
     "output_type": "execute_result"
    }
   ],
   "source": [
    "mean"
   ]
  },
  {
   "cell_type": "code",
   "execution_count": 7,
   "id": "2c306b98-acd7-49a1-8dfe-6badb4ed7ed9",
   "metadata": {},
   "outputs": [
    {
     "data": {
      "text/plain": [
       "8.5"
      ]
     },
     "execution_count": 7,
     "metadata": {},
     "output_type": "execute_result"
    }
   ],
   "source": [
    "median"
   ]
  },
  {
   "cell_type": "code",
   "execution_count": 8,
   "id": "5d31fe0c-4716-420f-b405-1dd667e86a3f",
   "metadata": {},
   "outputs": [
    {
     "data": {
      "text/plain": [
       "5"
      ]
     },
     "execution_count": 8,
     "metadata": {},
     "output_type": "execute_result"
    }
   ],
   "source": [
    "mode"
   ]
  },
  {
   "cell_type": "code",
   "execution_count": null,
   "id": "46f3bb58-0228-4157-ad12-a196fdbdfb73",
   "metadata": {},
   "outputs": [],
   "source": []
  },
  {
   "cell_type": "code",
   "execution_count": null,
   "id": "4f1340df-9881-44d4-a2df-535a344449f6",
   "metadata": {},
   "outputs": [],
   "source": []
  }
 ],
 "metadata": {
  "kernelspec": {
   "display_name": "Python 3 (ipykernel)",
   "language": "python",
   "name": "python3"
  },
  "language_info": {
   "codemirror_mode": {
    "name": "ipython",
    "version": 3
   },
   "file_extension": ".py",
   "mimetype": "text/x-python",
   "name": "python",
   "nbconvert_exporter": "python",
   "pygments_lexer": "ipython3",
   "version": "3.13.2"
  }
 },
 "nbformat": 4,
 "nbformat_minor": 5
}
