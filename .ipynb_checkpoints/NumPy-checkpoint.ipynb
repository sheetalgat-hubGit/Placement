{
 "cells": [
  {
   "cell_type": "code",
   "execution_count": 1,
   "id": "9adaf32e-5e79-433d-a708-84aa6cbfe4ec",
   "metadata": {},
   "outputs": [
    {
     "name": "stdout",
     "output_type": "stream",
     "text": [
      "Requirement already satisfied: numpy in c:\\users\\sheet\\appdata\\local\\programs\\python\\python313\\lib\\site-packages (2.2.4)\n",
      "Note: you may need to restart the kernel to use updated packages.\n"
     ]
    },
    {
     "name": "stderr",
     "output_type": "stream",
     "text": [
      "\n",
      "[notice] A new release of pip is available: 24.3.1 -> 25.0.1\n",
      "[notice] To update, run: python.exe -m pip install --upgrade pip\n"
     ]
    }
   ],
   "source": [
    "pip install numpy"
   ]
  },
  {
   "cell_type": "code",
   "execution_count": 6,
   "id": "aca7a157-2c14-43c6-9ba0-2af117e457ac",
   "metadata": {},
   "outputs": [
    {
     "name": "stdout",
     "output_type": "stream",
     "text": [
      "[1 2 3] <class 'numpy.ndarray'>\n"
     ]
    }
   ],
   "source": [
    "import numpy as np\n",
    "arr = np.array([1,2,3])\n",
    "print(arr, type(arr))"
   ]
  },
  {
   "cell_type": "code",
   "execution_count": 7,
   "id": "6cb7ef8c-3085-4dc3-a1a8-a0730f8ec0e0",
   "metadata": {},
   "outputs": [
    {
     "name": "stdout",
     "output_type": "stream",
     "text": [
      "91.3 μs ± 2.83 μs per loop (mean ± std. dev. of 7 runs, 10,000 loops each)\n"
     ]
    }
   ],
   "source": [
    "lst = list(range(1000))\n",
    "%timeit [x * 2 for x in lst]"
   ]
  },
  {
   "cell_type": "code",
   "execution_count": 8,
   "id": "24756ec6-fce6-44a3-9769-9f8c135523fd",
   "metadata": {},
   "outputs": [
    {
     "name": "stdout",
     "output_type": "stream",
     "text": [
      "6.01 μs ± 255 ns per loop (mean ± std. dev. of 7 runs, 100,000 loops each)\n"
     ]
    }
   ],
   "source": [
    "arr = np.arange(1000)\n",
    "%timeit arr* 2"
   ]
  },
  {
   "cell_type": "code",
   "execution_count": 9,
   "id": "346fd6ad-0d24-4440-9b10-eb15196ab5be",
   "metadata": {},
   "outputs": [
    {
     "data": {
      "text/plain": [
       "array([[0., 0., 0.],\n",
       "       [0., 0., 0.]])"
      ]
     },
     "execution_count": 9,
     "metadata": {},
     "output_type": "execute_result"
    }
   ],
   "source": [
    "np.zeros((2,3))"
   ]
  },
  {
   "cell_type": "raw",
   "id": "e38d8f8e-41d7-4cb6-ad59-567da18dbfd6",
   "metadata": {},
   "source": [
    "# dimensions of array"
   ]
  },
  {
   "cell_type": "code",
   "execution_count": 10,
   "id": "98697b1e-658a-450e-942e-bf1f1eebbc3b",
   "metadata": {},
   "outputs": [
    {
     "name": "stdout",
     "output_type": "stream",
     "text": [
      "40\n",
      "dimension of this array is: 0\n"
     ]
    }
   ],
   "source": [
    "import numpy as np\n",
    "arr = np.array(40)\n",
    "print(arr)\n",
    "print(f\"dimension of this array is: {arr.ndim}\")"
   ]
  },
  {
   "cell_type": "code",
   "execution_count": 11,
   "id": "bac1a47a-6c43-47e8-a093-1c3dd69eb291",
   "metadata": {},
   "outputs": [
    {
     "name": "stdout",
     "output_type": "stream",
     "text": [
      "dimension of this array is: 1\n"
     ]
    }
   ],
   "source": [
    "arr1 = np.array([2,3,4,5,6])\n",
    "arr1\n",
    "print(f\"dimension of this array is: {arr1.ndim}\")\n"
   ]
  },
  {
   "cell_type": "code",
   "execution_count": 12,
   "id": "789d264d-1253-4e13-8077-757dafade04c",
   "metadata": {},
   "outputs": [
    {
     "data": {
      "text/plain": [
       "np.int64(6)"
      ]
     },
     "execution_count": 12,
     "metadata": {},
     "output_type": "execute_result"
    }
   ],
   "source": [
    "arr1[-1]"
   ]
  },
  {
   "cell_type": "code",
   "execution_count": 13,
   "id": "cbb2af99-c4d0-4d65-a64d-1af48f9ed5b3",
   "metadata": {},
   "outputs": [
    {
     "data": {
      "text/plain": [
       "array([3, 4, 5])"
      ]
     },
     "execution_count": 13,
     "metadata": {},
     "output_type": "execute_result"
    }
   ],
   "source": [
    "arr1[1:4]"
   ]
  },
  {
   "cell_type": "code",
   "execution_count": 14,
   "id": "7b83abf1-a264-43ee-be21-d30c1dd640e2",
   "metadata": {},
   "outputs": [
    {
     "data": {
      "text/plain": [
       "array([4, 5, 6])"
      ]
     },
     "execution_count": 14,
     "metadata": {},
     "output_type": "execute_result"
    }
   ],
   "source": [
    "arr1[2:]"
   ]
  },
  {
   "cell_type": "code",
   "execution_count": 15,
   "id": "186e52ec-4579-4bc9-98f6-466058005f2b",
   "metadata": {},
   "outputs": [
    {
     "data": {
      "text/plain": [
       "array([2, 3, 4])"
      ]
     },
     "execution_count": 15,
     "metadata": {},
     "output_type": "execute_result"
    }
   ],
   "source": [
    "arr1[:3]"
   ]
  },
  {
   "cell_type": "code",
   "execution_count": 6,
   "id": "c3083ab7-786e-4cec-acac-abff911ab9ad",
   "metadata": {},
   "outputs": [
    {
     "data": {
      "text/plain": [
       "array([[ 1,  2,  3,  4,  5],\n",
       "       [ 7,  8,  9, 10, 11]])"
      ]
     },
     "execution_count": 6,
     "metadata": {},
     "output_type": "execute_result"
    }
   ],
   "source": [
    "import numpy as np\n",
    "arr2 = np.array([[1,2,3,4,5],[7,8,9,10,11]])\n",
    "arr2\n",
    "#print(arr2.ndim)"
   ]
  },
  {
   "cell_type": "code",
   "execution_count": 17,
   "id": "0490c4cd-c4df-4464-a2e1-3995aeb00266",
   "metadata": {},
   "outputs": [
    {
     "data": {
      "text/plain": [
       "array([1, 2, 3, 4, 5])"
      ]
     },
     "execution_count": 17,
     "metadata": {},
     "output_type": "execute_result"
    }
   ],
   "source": [
    "arr2[0]"
   ]
  },
  {
   "cell_type": "code",
   "execution_count": 18,
   "id": "4cfa5042-99fa-4aaf-b2fb-e26aa6345113",
   "metadata": {},
   "outputs": [
    {
     "data": {
      "text/plain": [
       "np.int64(2)"
      ]
     },
     "execution_count": 18,
     "metadata": {},
     "output_type": "execute_result"
    }
   ],
   "source": [
    "arr2[0,1]"
   ]
  },
  {
   "cell_type": "code",
   "execution_count": 19,
   "id": "abd067fe-03ab-4641-8124-ee75616f1c43",
   "metadata": {},
   "outputs": [
    {
     "data": {
      "text/plain": [
       "np.int64(8)"
      ]
     },
     "execution_count": 19,
     "metadata": {},
     "output_type": "execute_result"
    }
   ],
   "source": [
    "arr2[1,1]"
   ]
  },
  {
   "cell_type": "code",
   "execution_count": 20,
   "id": "e20951f8-9051-4f69-a3a6-917611151663",
   "metadata": {},
   "outputs": [
    {
     "data": {
      "text/plain": [
       "array([[2, 3],\n",
       "       [8, 9]])"
      ]
     },
     "execution_count": 20,
     "metadata": {},
     "output_type": "execute_result"
    }
   ],
   "source": [
    "arr2[0:,1:3]"
   ]
  },
  {
   "cell_type": "code",
   "execution_count": 21,
   "id": "8d636483-5bc2-472d-a8cc-5ff22678d7a9",
   "metadata": {},
   "outputs": [
    {
     "data": {
      "text/plain": [
       "array([[ 3,  4,  5],\n",
       "       [ 9, 10, 11]])"
      ]
     },
     "execution_count": 21,
     "metadata": {},
     "output_type": "execute_result"
    }
   ],
   "source": [
    "arr2[0:,2:]"
   ]
  },
  {
   "cell_type": "code",
   "execution_count": 22,
   "id": "4cb96b2f-da04-4d53-9899-cf369b0a8455",
   "metadata": {},
   "outputs": [
    {
     "data": {
      "text/plain": [
       "array([[ 2,  4],\n",
       "       [ 8, 10]])"
      ]
     },
     "execution_count": 22,
     "metadata": {},
     "output_type": "execute_result"
    }
   ],
   "source": [
    "arr2[0:,1:4:2]"
   ]
  },
  {
   "cell_type": "code",
   "execution_count": 23,
   "id": "dbbccd85-efff-4ba9-98ee-7f001d3734c2",
   "metadata": {},
   "outputs": [
    {
     "data": {
      "text/plain": [
       "array([[ 4,  2],\n",
       "       [10,  8]])"
      ]
     },
     "execution_count": 23,
     "metadata": {},
     "output_type": "execute_result"
    }
   ],
   "source": [
    "arr2[0:,-2:-5:-2]"
   ]
  },
  {
   "cell_type": "code",
   "execution_count": 24,
   "id": "41d0a809-c40d-4588-b7b9-a4223b274579",
   "metadata": {},
   "outputs": [
    {
     "data": {
      "text/plain": [
       "array([[[ 1,  2,  3,  4],\n",
       "        [ 5,  6,  7,  8]],\n",
       "\n",
       "       [[ 9, 10, 11, 12],\n",
       "        [21, 22, 23, 24]]])"
      ]
     },
     "execution_count": 24,
     "metadata": {},
     "output_type": "execute_result"
    }
   ],
   "source": [
    "# 3d\n",
    "arr3 = np.array([[[1,2,3,4],[5,6,7,8]],[[9,10,11,12],[21,22,23,24]]])\n",
    "arr3"
   ]
  },
  {
   "cell_type": "code",
   "execution_count": 9,
   "id": "f05e1adb-eac9-4133-97fc-b198f534ae94",
   "metadata": {},
   "outputs": [
    {
     "data": {
      "text/plain": [
       "array([[[1, 2],\n",
       "        [4, 5]],\n",
       "\n",
       "       [[6, 7],\n",
       "        [8, 9]]])"
      ]
     },
     "execution_count": 9,
     "metadata": {},
     "output_type": "execute_result"
    }
   ],
   "source": [
    "arr4 =np.array([[[1,2],[4,5]],[[6,7],[8,9]]])\n",
    "arr4\n",
    "#arr4.ndim"
   ]
  },
  {
   "cell_type": "code",
   "execution_count": 10,
   "id": "05092776-548f-42b1-b564-510faa8cc528",
   "metadata": {},
   "outputs": [
    {
     "data": {
      "text/plain": [
       "np.int64(7)"
      ]
     },
     "execution_count": 10,
     "metadata": {},
     "output_type": "execute_result"
    }
   ],
   "source": [
    "arr4[1,0,1]"
   ]
  },
  {
   "cell_type": "code",
   "execution_count": 25,
   "id": "4c9ff820-b85f-4064-a67e-2a7c7f5365cf",
   "metadata": {},
   "outputs": [
    {
     "data": {
      "text/plain": [
       "array([5, 6, 7, 8])"
      ]
     },
     "execution_count": 25,
     "metadata": {},
     "output_type": "execute_result"
    }
   ],
   "source": [
    "arr3[0,1]"
   ]
  },
  {
   "cell_type": "code",
   "execution_count": 26,
   "id": "53a01247-d345-4c6f-aa1a-461034ec2347",
   "metadata": {},
   "outputs": [
    {
     "data": {
      "text/plain": [
       "np.int64(8)"
      ]
     },
     "execution_count": 26,
     "metadata": {},
     "output_type": "execute_result"
    }
   ],
   "source": [
    "arr3[0,1,3]"
   ]
  },
  {
   "cell_type": "code",
   "execution_count": 27,
   "id": "f4a4d66d-fec8-4bc1-82c1-31f04f85bb73",
   "metadata": {},
   "outputs": [
    {
     "data": {
      "text/plain": [
       "np.int64(11)"
      ]
     },
     "execution_count": 27,
     "metadata": {},
     "output_type": "execute_result"
    }
   ],
   "source": [
    "arr3[1,0,2]"
   ]
  },
  {
   "cell_type": "code",
   "execution_count": 28,
   "id": "e6ab286e-1361-4d78-8338-e2889790a0c4",
   "metadata": {},
   "outputs": [
    {
     "data": {
      "text/plain": [
       "array([[0., 0., 0.],\n",
       "       [0., 0., 0.]])"
      ]
     },
     "execution_count": 28,
     "metadata": {},
     "output_type": "execute_result"
    }
   ],
   "source": [
    "np.zeros((2,3))"
   ]
  },
  {
   "cell_type": "code",
   "execution_count": 29,
   "id": "bb62a78b-d9bb-4ad0-a87f-0d2b84a97e4c",
   "metadata": {},
   "outputs": [
    {
     "data": {
      "text/plain": [
       "array([[1., 1.],\n",
       "       [1., 1.],\n",
       "       [1., 1.]])"
      ]
     },
     "execution_count": 29,
     "metadata": {},
     "output_type": "execute_result"
    }
   ],
   "source": [
    "np.ones((3,2))"
   ]
  },
  {
   "cell_type": "code",
   "execution_count": 30,
   "id": "418a2fcd-3ae7-4d64-8a5a-12e04534ec95",
   "metadata": {},
   "outputs": [
    {
     "data": {
      "text/plain": [
       "array([0, 2, 4, 6, 8])"
      ]
     },
     "execution_count": 30,
     "metadata": {},
     "output_type": "execute_result"
    }
   ],
   "source": [
    "np.arange(0,10,2)"
   ]
  },
  {
   "cell_type": "code",
   "execution_count": 31,
   "id": "223ef9c9-4ed9-4cf0-b238-5315226717d2",
   "metadata": {},
   "outputs": [
    {
     "data": {
      "text/plain": [
       "array([0.  , 0.25, 0.5 , 0.75, 1.  ])"
      ]
     },
     "execution_count": 31,
     "metadata": {},
     "output_type": "execute_result"
    }
   ],
   "source": [
    "np.linspace(0,1,5)"
   ]
  },
  {
   "cell_type": "code",
   "execution_count": 34,
   "id": "33abe40e-387c-46b4-bd22-b7e62d85f457",
   "metadata": {},
   "outputs": [
    {
     "data": {
      "text/plain": [
       "array([[0.93606248, 0.20454706],\n",
       "       [0.54352436, 0.00737505]])"
      ]
     },
     "execution_count": 34,
     "metadata": {},
     "output_type": "execute_result"
    }
   ],
   "source": [
    "np.random.rand(2,2)"
   ]
  },
  {
   "cell_type": "code",
   "execution_count": 35,
   "id": "b3f5e754-3b05-40b2-81bb-c88b80317281",
   "metadata": {},
   "outputs": [
    {
     "name": "stdout",
     "output_type": "stream",
     "text": [
      "(2, 3) 6 int64\n"
     ]
    }
   ],
   "source": [
    "arr = np.array([[1,2,3],[4,5,6]])\n",
    "print(arr.shape,arr.size,arr.dtype)"
   ]
  },
  {
   "cell_type": "code",
   "execution_count": 11,
   "id": "30a89a97-8510-40b4-9346-90e0543a2f46",
   "metadata": {},
   "outputs": [
    {
     "name": "stdout",
     "output_type": "stream",
     "text": [
      "(2, 3) int64 2\n"
     ]
    }
   ],
   "source": [
    "arr5 = np.array([[1,2,3],[4,5,6]])\n",
    "print(arr5.shape,arr5.dtype,arr5.ndim)"
   ]
  },
  {
   "cell_type": "markdown",
   "id": "98f61570-f047-4bf3-b69d-c90c4f504db9",
   "metadata": {},
   "source": [
    "# array indexing, slicing amd multi-dimensional array\n"
   ]
  },
  {
   "cell_type": "raw",
   "id": "c3bf0623-da68-4f34-8747-d8853e025b5c",
   "metadata": {},
   "source": [
    "airthmetic\n",
    "element-wise: +,-,*,/"
   ]
  },
  {
   "cell_type": "code",
   "execution_count": 37,
   "id": "515fe8d6-f261-4da4-8ac8-a369942d9b46",
   "metadata": {},
   "outputs": [
    {
     "name": "stdout",
     "output_type": "stream",
     "text": [
      "[5 7 9]\n",
      "[2 4 6]\n"
     ]
    }
   ],
   "source": [
    "a = np.array([1,2,3])\n",
    "b = np.array([4,5,6])\n",
    "print(a + b)\n",
    "print(a * 2)"
   ]
  },
  {
   "cell_type": "raw",
   "id": "092c71b9-a438-49d5-923d-13ac64ba7fc1",
   "metadata": {},
   "source": [
    "aggregation: np.sum(), np.mean, np.max, np.min()"
   ]
  },
  {
   "cell_type": "code",
   "execution_count": 39,
   "id": "b0c72b16-5d7f-40ec-b045-d7876d40d23d",
   "metadata": {},
   "outputs": [
    {
     "name": "stdout",
     "output_type": "stream",
     "text": [
      "6\n",
      "2.0\n",
      "3\n",
      "1\n"
     ]
    }
   ],
   "source": [
    "print(np.sum(a))\n",
    "print(np.mean(a))\n",
    "print(np.max(a))\n",
    "print(np.min(a))"
   ]
  },
  {
   "cell_type": "raw",
   "id": "602570f9-1988-47cb-9d80-c706bc14317c",
   "metadata": {},
   "source": [
    "rules: align shapes automaticaly"
   ]
  },
  {
   "cell_type": "code",
   "execution_count": 40,
   "id": "3620f9d8-546e-49d5-bc51-78bf751201f4",
   "metadata": {},
   "outputs": [
    {
     "name": "stdout",
     "output_type": "stream",
     "text": [
      "[[4 5]\n",
      " [5 6]]\n"
     ]
    }
   ],
   "source": [
    "c= np.array([[1],[2]])\n",
    "d = np.array([3,4])\n",
    "print(c+d)"
   ]
  },
  {
   "cell_type": "raw",
   "id": "5b0d0f1a-7e70-499e-b841-281b7585eb1b",
   "metadata": {},
   "source": [
    "mathematical, statisstical, and linear algebra functions\n",
    "content:\n",
    "mathematical fn:\n",
    "np.sin(), np.cos(),np.exp(),np.sqrt()"
   ]
  },
  {
   "cell_type": "code",
   "execution_count": 44,
   "id": "71dbaa2e-1eb7-401c-8bce-15a7160bb738",
   "metadata": {},
   "outputs": [
    {
     "name": "stdout",
     "output_type": "stream",
     "text": [
      "[0. 1. 2.]\n",
      "[ 1.          2.71828183 54.59815003]\n",
      "[ 1.          0.54030231 -0.65364362]\n",
      "[ 0.          0.84147098 -0.7568025 ]\n"
     ]
    }
   ],
   "source": [
    "arr = np.array([0,1,4])\n",
    "print(np.sqrt(arr))\n",
    "print(np.exp(arr))\n",
    "print(np.cos(arr))\n",
    "print(np.sin(arr))"
   ]
  },
  {
   "cell_type": "code",
   "execution_count": 22,
   "id": "45fb64e2-1e23-44aa-951b-3a6e7b2a3eca",
   "metadata": {},
   "outputs": [
    {
     "name": "stdout",
     "output_type": "stream",
     "text": [
      "sin: [0.0000000e+00 1.0000000e+00 1.2246468e-16]\n",
      "cos: [ 1.000000e+00  6.123234e-17 -1.000000e+00]\n"
     ]
    }
   ],
   "source": [
    "import numpy as np\n",
    "\n",
    "x = np.array([0, np.pi/2, np.pi])\n",
    "print(\"sin:\", np.sin(x))  \n",
    "print(\"cos:\", np.cos(x))  \n"
   ]
  },
  {
   "cell_type": "code",
   "execution_count": 23,
   "id": "78104a76-4a60-4a7c-8b89-435a0a805107",
   "metadata": {},
   "outputs": [
    {
     "name": "stdout",
     "output_type": "stream",
     "text": [
      "Rounded sin: [0. 1. 0.]\n",
      "Rounded cos: [ 1.  0. -1.]\n"
     ]
    }
   ],
   "source": [
    "import numpy as np\n",
    "\n",
    "x = np.array([0, np.pi/2, np.pi])\n",
    "sin_vals = np.round(np.sin(x), 5)\n",
    "cos_vals = np.round(np.cos(x), 5)\n",
    "\n",
    "print(\"Rounded sin:\", sin_vals)\n",
    "print(\"Rounded cos:\", cos_vals)"
   ]
  },
  {
   "cell_type": "code",
   "execution_count": 12,
   "id": "e82142ee-15c8-4edb-bc8b-223f426e9c4f",
   "metadata": {},
   "outputs": [
    {
     "data": {
      "text/plain": [
       "array([[1., 0., 0., 0.],\n",
       "       [0., 1., 0., 0.],\n",
       "       [0., 0., 1., 0.],\n",
       "       [0., 0., 0., 1.]])"
      ]
     },
     "execution_count": 12,
     "metadata": {},
     "output_type": "execute_result"
    }
   ],
   "source": [
    "np.identity(4)"
   ]
  },
  {
   "cell_type": "code",
   "execution_count": 13,
   "id": "abee0a65-9f5c-4336-9ca2-a44f5fe89edc",
   "metadata": {},
   "outputs": [
    {
     "name": "stdout",
     "output_type": "stream",
     "text": [
      "[[ 0.50339052 -0.03433425 -0.40097785]\n",
      " [-1.21176659 -1.17452629  0.44146903]\n",
      " [ 1.36128452  0.9414541  -0.25310127]\n",
      " [ 0.72063868  0.66493107 -0.05288477]\n",
      " [-0.40770956 -0.28286515  0.65682851]]\n"
     ]
    }
   ],
   "source": [
    "print(np.random.randn(5,3))"
   ]
  },
  {
   "cell_type": "code",
   "execution_count": 14,
   "id": "935237d3-2e82-4167-961b-3615eb250baa",
   "metadata": {},
   "outputs": [
    {
     "data": {
      "text/plain": [
       "array([20, 12, 33, 99, 71, 20, 14, 41, 85, 87, 94, 46, 26, 44, 37, 37, 91,\n",
       "       99, 14,  9, 20, 46, 47,  2, 35, 98, 23,  9,  5, 52, 92, 10, 55, 12,\n",
       "       85, 85, 24, 88, 21, 59, 66, 13, 46, 69, 96, 82, 28, 73, 75, 64],\n",
       "      dtype=int32)"
      ]
     },
     "execution_count": 14,
     "metadata": {},
     "output_type": "execute_result"
    }
   ],
   "source": [
    "np.random.randint(1,100,50)"
   ]
  },
  {
   "cell_type": "code",
   "execution_count": 15,
   "id": "da47860f-f829-4cef-a9fe-94c75d77c051",
   "metadata": {},
   "outputs": [
    {
     "data": {
      "text/plain": [
       "array([[20, 27, 50, 39],\n",
       "       [62,  7, 72, 14],\n",
       "       [10, 89, 33, 46],\n",
       "       [60,  5, 96, 24]], dtype=int32)"
      ]
     },
     "execution_count": 15,
     "metadata": {},
     "output_type": "execute_result"
    }
   ],
   "source": [
    "#universal fn\n",
    "np.random.randint(1,100,(4,4))"
   ]
  },
  {
   "cell_type": "code",
   "execution_count": 18,
   "id": "75f2158b-5abc-4127-811c-79219fa016b0",
   "metadata": {},
   "outputs": [],
   "source": [
    "arr=np.random.randint(2,100,20).reshape(5,4)"
   ]
  },
  {
   "cell_type": "raw",
   "id": "4138edad-9a5d-4395-a20f-3131a7fa5edc",
   "metadata": {},
   "source": [
    "statistical fn:\n",
    "np.mean(),np.std(),np.median(),np.var()"
   ]
  },
  {
   "cell_type": "raw",
   "id": "139cf4b6-84bc-4400-a91f-04d594eda191",
   "metadata": {},
   "source": [
    "Reshaping arrays\n",
    "np.reshape, arr.flatten, arr.T (transpose)"
   ]
  },
  {
   "cell_type": "code",
   "execution_count": 46,
   "id": "ddcdd4c7-c2bf-4224-946d-0c3bb38160ac",
   "metadata": {},
   "outputs": [
    {
     "name": "stdout",
     "output_type": "stream",
     "text": [
      "[[1 2 3]\n",
      " [4 5 6]]\n"
     ]
    }
   ],
   "source": [
    "arr = np.array([1,2,3,4,5,6])\n",
    "print(np.reshape(arr,(2,3)))"
   ]
  },
  {
   "cell_type": "code",
   "execution_count": 47,
   "id": "40ef4c02-a1b9-4319-bc96-fe3a199c26ee",
   "metadata": {},
   "outputs": [
    {
     "name": "stdout",
     "output_type": "stream",
     "text": [
      "[[1 2]\n",
      " [3 4]\n",
      " [5 6]]\n"
     ]
    }
   ],
   "source": [
    "print(np.reshape(arr,(3,2)))"
   ]
  },
  {
   "cell_type": "raw",
   "id": "aa930295-df58-4ba8-bbb3-8f102a98d0c7",
   "metadata": {},
   "source": [
    "-1 == automatic reshapes "
   ]
  },
  {
   "cell_type": "code",
   "execution_count": 48,
   "id": "7387e256-1f81-497d-a3d5-a8a4f17adffe",
   "metadata": {},
   "outputs": [
    {
     "name": "stdout",
     "output_type": "stream",
     "text": [
      "[[1 2]\n",
      " [3 4]\n",
      " [5 6]]\n"
     ]
    }
   ],
   "source": [
    "print(np.reshape(arr,(3,-1)))"
   ]
  },
  {
   "cell_type": "code",
   "execution_count": 53,
   "id": "851ae80b-c2e5-492a-83dc-820babe2bc1b",
   "metadata": {},
   "outputs": [
    {
     "name": "stdout",
     "output_type": "stream",
     "text": [
      "[[[ 1  2]\n",
      "  [ 3  4]]\n",
      "\n",
      " [[ 5  6]\n",
      "  [ 7  8]]\n",
      "\n",
      " [[ 9 10]\n",
      "  [11 12]]]\n"
     ]
    }
   ],
   "source": [
    "arr = np.array([1,2,3,4,5,6,7,8,9,10,11,12])\n",
    "print(np.reshape(arr,(3,2,2)))"
   ]
  },
  {
   "cell_type": "code",
   "execution_count": 64,
   "id": "2b521aa9-8bd5-42dc-a9de-48a191fa64d5",
   "metadata": {},
   "outputs": [
    {
     "data": {
      "text/plain": [
       "array([1, 2, 3, 4, 5, 6, 7, 8])"
      ]
     },
     "execution_count": 64,
     "metadata": {},
     "output_type": "execute_result"
    }
   ],
   "source": [
    "import numpy as np\n",
    "arr2 = np.array([[1,2,3,4],[5,6,7,8]])\n",
    "arr2.flatten()"
   ]
  },
  {
   "cell_type": "raw",
   "id": "63cd4946-4745-4fc0-b010-9dcc73ff0bcb",
   "metadata": {},
   "source": [
    "concatenation\n",
    "np.concatenate(),np.vstack(),np.hstack()-- vertical/horizontal concatenate"
   ]
  },
  {
   "cell_type": "code",
   "execution_count": 65,
   "id": "5d63046e-5d2d-40d4-885d-b4c677fd8cb4",
   "metadata": {},
   "outputs": [
    {
     "name": "stdout",
     "output_type": "stream",
     "text": [
      "[[1 2]\n",
      " [3 4]]\n"
     ]
    }
   ],
   "source": [
    "a = np.array([[1,2]])\n",
    "b = np.array([[3,4]])\n",
    "print(np.vstack((a,b)))"
   ]
  },
  {
   "cell_type": "code",
   "execution_count": 66,
   "id": "95b7d3bb-83ca-4ed6-8408-2ec891a73f9f",
   "metadata": {},
   "outputs": [
    {
     "name": "stdout",
     "output_type": "stream",
     "text": [
      "[[1 2 3 4]]\n"
     ]
    }
   ],
   "source": [
    "print(np.hstack((a,b)))"
   ]
  },
  {
   "cell_type": "code",
   "execution_count": 67,
   "id": "4e39bbd6-5da3-42df-a938-28ff8043874c",
   "metadata": {},
   "outputs": [
    {
     "data": {
      "text/plain": [
       "array([[1, 2],\n",
       "       [3, 4]])"
      ]
     },
     "execution_count": 67,
     "metadata": {},
     "output_type": "execute_result"
    }
   ],
   "source": [
    "np.concatenate((a,b))"
   ]
  },
  {
   "cell_type": "code",
   "execution_count": 68,
   "id": "faf7e57b-c6c7-4425-a94c-771bc50f99ed",
   "metadata": {},
   "outputs": [
    {
     "data": {
      "text/plain": [
       "array([[1, 2, 3, 4]])"
      ]
     },
     "execution_count": 68,
     "metadata": {},
     "output_type": "execute_result"
    }
   ],
   "source": [
    "np.concatenate((a,b),axis=1)"
   ]
  },
  {
   "cell_type": "raw",
   "id": "c57c662c-22ec-4c19-834c-f9077e7df4c6",
   "metadata": {},
   "source": [
    "splitting\n",
    "np.split(),np.vsplit(),np.hsplit()"
   ]
  },
  {
   "cell_type": "code",
   "execution_count": 69,
   "id": "17f5424d-ba19-47c2-ad05-61a9a954567a",
   "metadata": {},
   "outputs": [
    {
     "name": "stdout",
     "output_type": "stream",
     "text": [
      "[array([[1],\n",
      "       [4]]), array([[2],\n",
      "       [5]]), array([[3],\n",
      "       [6]])]\n"
     ]
    }
   ],
   "source": [
    "arr = np.array([[1,2,3],[4,5,6]])\n",
    "print(np.hsplit(arr,3))"
   ]
  },
  {
   "cell_type": "code",
   "execution_count": 72,
   "id": "d902cf02-157d-46b7-98d7-b51827108ff5",
   "metadata": {},
   "outputs": [
    {
     "name": "stdout",
     "output_type": "stream",
     "text": [
      "[array([[1, 2, 3],\n",
      "       [4, 5, 6]])]\n"
     ]
    }
   ],
   "source": [
    "print(np.vsplit(arr,1))"
   ]
  },
  {
   "cell_type": "code",
   "execution_count": 73,
   "id": "c2d48b6f-44b9-4eb5-aa4c-05d147deea44",
   "metadata": {},
   "outputs": [
    {
     "name": "stdout",
     "output_type": "stream",
     "text": [
      "[array([[1],\n",
      "       [4]]), array([[2],\n",
      "       [5]]), array([[3],\n",
      "       [6]])]\n"
     ]
    }
   ],
   "source": [
    "print(np.split(arr,3,axis=1))"
   ]
  },
  {
   "cell_type": "raw",
   "id": "570ee617-c192-4d62-b880-7fbcbadc98f6",
   "metadata": {},
   "source": [
    "Linear algebra\n",
    "np.dot() (matrix multiplication), np.linalg.inv(),np.linalg.det()"
   ]
  },
  {
   "cell_type": "code",
   "execution_count": 19,
   "id": "ec9156ec-fe36-48b0-bf5e-33f0024d1a95",
   "metadata": {},
   "outputs": [
    {
     "data": {
      "text/plain": [
       "np.int64(32)"
      ]
     },
     "execution_count": 19,
     "metadata": {},
     "output_type": "execute_result"
    }
   ],
   "source": [
    "a = np.array([1,2,3])\n",
    "b = np.array([4,5,6])\n",
    "# takes dot product of two array for eg 1*4 + 2*5 + 3*6 = 4+10+18 = 32\n",
    "result = np.dot(a,b)\n",
    "result"
   ]
  },
  {
   "cell_type": "code",
   "execution_count": 21,
   "id": "5039a8b2-df75-47e7-b7df-3e0146fefc38",
   "metadata": {},
   "outputs": [
    {
     "name": "stdout",
     "output_type": "stream",
     "text": [
      "[[-2.   1. ]\n",
      " [ 1.5 -0.5]]\n"
     ]
    }
   ],
   "source": [
    "# inverse of mat array\n",
    "mat = np.array([[1, 2], [3, 4]])\n",
    "print(np.linalg.inv(mat))"
   ]
  },
  {
   "cell_type": "raw",
   "id": "1da8025f-333b-4a44-abd8-4c849b2b686d",
   "metadata": {},
   "source": [
    "astype"
   ]
  },
  {
   "cell_type": "code",
   "execution_count": 74,
   "id": "f2df32e7-b891-4401-8310-acc7eef1b0d0",
   "metadata": {},
   "outputs": [
    {
     "name": "stdout",
     "output_type": "stream",
     "text": [
      "[1 2 3]\n"
     ]
    }
   ],
   "source": [
    "import numpy as np\n",
    "arr = np.array([1.2,2.5,3.8])\n",
    "new_arr  = arr.astype(int)\n",
    "print(new_arr)"
   ]
  },
  {
   "cell_type": "code",
   "execution_count": 76,
   "id": "69847903-e367-421f-bb9a-7a1f023e13b8",
   "metadata": {},
   "outputs": [
    {
     "name": "stdout",
     "output_type": "stream",
     "text": [
      "[1 0 1]\n"
     ]
    }
   ],
   "source": [
    "arr = np.array([True,False,True])\n",
    "new_arr = arr.astype(int)\n",
    "print(new_arr)"
   ]
  },
  {
   "cell_type": "code",
   "execution_count": 77,
   "id": "05f0c00d-eada-4ddb-9139-680e606bd346",
   "metadata": {},
   "outputs": [
    {
     "data": {
      "text/plain": [
       "[1, 2, 3, 4]"
      ]
     },
     "execution_count": 77,
     "metadata": {},
     "output_type": "execute_result"
    }
   ],
   "source": [
    "a = [1,2,3,3,3,4]\n",
    "list(set(a))"
   ]
  },
  {
   "cell_type": "code",
   "execution_count": null,
   "id": "8b0e4d7e-69a2-4095-adcd-ec4f165668de",
   "metadata": {},
   "outputs": [],
   "source": []
  }
 ],
 "metadata": {
  "kernelspec": {
   "display_name": "Python 3 (ipykernel)",
   "language": "python",
   "name": "python3"
  },
  "language_info": {
   "codemirror_mode": {
    "name": "ipython",
    "version": 3
   },
   "file_extension": ".py",
   "mimetype": "text/x-python",
   "name": "python",
   "nbconvert_exporter": "python",
   "pygments_lexer": "ipython3",
   "version": "3.13.2"
  }
 },
 "nbformat": 4,
 "nbformat_minor": 5
}
